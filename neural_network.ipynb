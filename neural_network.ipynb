{
 "cells": [
  {
   "cell_type": "code",
   "execution_count": 1,
   "id": "0c0b69a5",
   "metadata": {},
   "outputs": [
    {
     "name": "stdout",
     "output_type": "stream",
     "text": [
      "(2050, 4)\n",
      "   num                  name  p_np  \\\n",
      "0    1            Propanolol     1   \n",
      "1    2  Terbutylchlorambucil     1   \n",
      "2    3                 40730     1   \n",
      "3    4                    24     1   \n",
      "4    5           cloxacillin     1   \n",
      "\n",
      "                                              smiles  \n",
      "0                   [Cl].CC(C)NCC(O)COc1cccc2ccccc12  \n",
      "1           C(=O)(OC(C)(C)C)CCCc1ccc(cc1)N(CCCl)CCCl  \n",
      "2  c12c3c(N4CCN(C)CC4)c(F)cc1c(c(C(O)=O)cn2C(C)CO...  \n",
      "3                   C1CCN(CC1)Cc1cccc(c1)OCCCNC(=O)C  \n",
      "4  Cc1onc(c2ccccc2Cl)c1C(=O)N[C@H]3[C@H]4SC(C)(C)...  \n"
     ]
    }
   ],
   "source": [
    "import pandas as pd\n",
    "\n",
    "bbbp_df = pd.read_csv(\"data/BBBP.csv\")\n",
    "\n",
    "# Preview the dataset\n",
    "print(bbbp_df.shape)\n",
    "print(bbbp_df.head())"
   ]
  },
  {
   "cell_type": "code",
   "execution_count": 2,
   "id": "1ecece47",
   "metadata": {},
   "outputs": [
    {
     "data": {
      "text/html": [
       "<div>\n",
       "<style scoped>\n",
       "    .dataframe tbody tr th:only-of-type {\n",
       "        vertical-align: middle;\n",
       "    }\n",
       "\n",
       "    .dataframe tbody tr th {\n",
       "        vertical-align: top;\n",
       "    }\n",
       "\n",
       "    .dataframe thead th {\n",
       "        text-align: right;\n",
       "    }\n",
       "</style>\n",
       "<table border=\"1\" class=\"dataframe\">\n",
       "  <thead>\n",
       "    <tr style=\"text-align: right;\">\n",
       "      <th></th>\n",
       "      <th>smiles</th>\n",
       "      <th>p_np</th>\n",
       "    </tr>\n",
       "  </thead>\n",
       "  <tbody>\n",
       "    <tr>\n",
       "      <th>0</th>\n",
       "      <td>[Cl].CC(C)NCC(O)COc1cccc2ccccc12</td>\n",
       "      <td>1</td>\n",
       "    </tr>\n",
       "    <tr>\n",
       "      <th>1</th>\n",
       "      <td>C(=O)(OC(C)(C)C)CCCc1ccc(cc1)N(CCCl)CCCl</td>\n",
       "      <td>1</td>\n",
       "    </tr>\n",
       "    <tr>\n",
       "      <th>2</th>\n",
       "      <td>c12c3c(N4CCN(C)CC4)c(F)cc1c(c(C(O)=O)cn2C(C)CO...</td>\n",
       "      <td>1</td>\n",
       "    </tr>\n",
       "    <tr>\n",
       "      <th>3</th>\n",
       "      <td>C1CCN(CC1)Cc1cccc(c1)OCCCNC(=O)C</td>\n",
       "      <td>1</td>\n",
       "    </tr>\n",
       "    <tr>\n",
       "      <th>4</th>\n",
       "      <td>Cc1onc(c2ccccc2Cl)c1C(=O)N[C@H]3[C@H]4SC(C)(C)...</td>\n",
       "      <td>1</td>\n",
       "    </tr>\n",
       "  </tbody>\n",
       "</table>\n",
       "</div>"
      ],
      "text/plain": [
       "                                              smiles  p_np\n",
       "0                   [Cl].CC(C)NCC(O)COc1cccc2ccccc12     1\n",
       "1           C(=O)(OC(C)(C)C)CCCc1ccc(cc1)N(CCCl)CCCl     1\n",
       "2  c12c3c(N4CCN(C)CC4)c(F)cc1c(c(C(O)=O)cn2C(C)CO...     1\n",
       "3                   C1CCN(CC1)Cc1cccc(c1)OCCCNC(=O)C     1\n",
       "4  Cc1onc(c2ccccc2Cl)c1C(=O)N[C@H]3[C@H]4SC(C)(C)...     1"
      ]
     },
     "execution_count": 2,
     "metadata": {},
     "output_type": "execute_result"
    }
   ],
   "source": [
    "# Cleaning data\n",
    "bbbp_df = bbbp_df[['smiles', 'p_np']].dropna()\n",
    "bbbp_df.head()"
   ]
  },
  {
   "cell_type": "code",
   "execution_count": 14,
   "id": "10f3d757",
   "metadata": {},
   "outputs": [
    {
     "name": "stderr",
     "output_type": "stream",
     "text": [
      "[15:51:23] Explicit valence for atom # 1 N, 4, is greater than permitted\n",
      "[15:51:23] WARNING: not removing hydrogen atom without neighbors\n",
      "[15:51:23] Explicit valence for atom # 6 N, 4, is greater than permitted\n",
      "[15:51:23] WARNING: not removing hydrogen atom without neighbors\n",
      "[15:51:23] WARNING: not removing hydrogen atom without neighbors\n",
      "[15:51:23] WARNING: not removing hydrogen atom without neighbors\n",
      "[15:51:23] WARNING: not removing hydrogen atom without neighbors\n",
      "[15:51:23] WARNING: not removing hydrogen atom without neighbors\n",
      "[15:51:23] WARNING: not removing hydrogen atom without neighbors\n",
      "[15:51:23] Explicit valence for atom # 6 N, 4, is greater than permitted\n",
      "[15:51:23] WARNING: not removing hydrogen atom without neighbors\n",
      "[15:51:23] WARNING: not removing hydrogen atom without neighbors\n",
      "[15:51:23] WARNING: not removing hydrogen atom without neighbors\n",
      "[15:51:23] WARNING: not removing hydrogen atom without neighbors\n",
      "[15:51:23] Explicit valence for atom # 11 N, 4, is greater than permitted\n",
      "[15:51:23] Explicit valence for atom # 12 N, 4, is greater than permitted\n",
      "[15:51:23] Explicit valence for atom # 5 N, 4, is greater than permitted\n",
      "[15:51:23] Explicit valence for atom # 5 N, 4, is greater than permitted\n",
      "[15:51:23] Explicit valence for atom # 5 N, 4, is greater than permitted\n",
      "[15:51:23] Explicit valence for atom # 5 N, 4, is greater than permitted\n",
      "[15:51:23] Explicit valence for atom # 5 N, 4, is greater than permitted\n",
      "[15:51:23] WARNING: not removing hydrogen atom without neighbors\n",
      "[15:51:23] WARNING: not removing hydrogen atom without neighbors\n",
      "[15:51:23] Explicit valence for atom # 5 N, 4, is greater than permitted\n",
      "[15:51:23] WARNING: not removing hydrogen atom without neighbors\n",
      "[15:51:23] WARNING: not removing hydrogen atom without neighbors\n",
      "[15:51:23] WARNING: not removing hydrogen atom without neighbors\n",
      "[15:51:23] WARNING: not removing hydrogen atom without neighbors\n",
      "[15:51:23] WARNING: not removing hydrogen atom without neighbors\n",
      "[15:51:23] WARNING: not removing hydrogen atom without neighbors\n",
      "[15:51:23] WARNING: not removing hydrogen atom without neighbors\n",
      "[15:51:23] WARNING: not removing hydrogen atom without neighbors\n",
      "[15:51:23] WARNING: not removing hydrogen atom without neighbors\n",
      "[15:51:23] WARNING: not removing hydrogen atom without neighbors\n",
      "[15:51:23] WARNING: not removing hydrogen atom without neighbors\n",
      "[15:51:23] WARNING: not removing hydrogen atom without neighbors\n",
      "[15:51:23] WARNING: not removing hydrogen atom without neighbors\n",
      "[15:51:23] WARNING: not removing hydrogen atom without neighbors\n",
      "[15:51:23] WARNING: not removing hydrogen atom without neighbors\n",
      "[15:51:23] WARNING: not removing hydrogen atom without neighbors\n",
      "[15:51:23] WARNING: not removing hydrogen atom without neighbors\n",
      "[15:51:23] WARNING: not removing hydrogen atom without neighbors\n",
      "[15:51:23] WARNING: not removing hydrogen atom without neighbors\n",
      "[15:51:23] WARNING: not removing hydrogen atom without neighbors\n",
      "[15:51:23] WARNING: not removing hydrogen atom without neighbors\n",
      "[15:51:23] WARNING: not removing hydrogen atom without neighbors\n",
      "[15:51:23] WARNING: not removing hydrogen atom without neighbors\n",
      "[15:51:23] WARNING: not removing hydrogen atom without neighbors\n",
      "[15:51:23] WARNING: not removing hydrogen atom without neighbors\n",
      "[15:51:23] WARNING: not removing hydrogen atom without neighbors\n",
      "[15:51:23] WARNING: not removing hydrogen atom without neighbors\n"
     ]
    }
   ],
   "source": [
    "from rdkit import Chem\n",
    "\n",
    "bbbp_df[\"valid\"] = 0\n",
    "\n",
    "for i, row in bbbp_df.iterrows():\n",
    "    smiles = row[\"smiles\"]\n",
    "    m = Chem.MolFromSmiles(smiles)\n",
    "    if m is None:\n",
    "        bbbp_df.loc[i, \"valid\"] = 0\n",
    "    else:\n",
    "        bbbp_df.loc[i,\"valid\"] = 1"
   ]
  },
  {
   "cell_type": "code",
   "execution_count": 16,
   "id": "544d372a",
   "metadata": {},
   "outputs": [
    {
     "name": "stdout",
     "output_type": "stream",
     "text": [
      "2039\n",
      "2050\n"
     ]
    }
   ],
   "source": [
    "print(sum(bbbp_df[\"valid\"]))\n",
    "print(len(bbbp_df))"
   ]
  },
  {
   "cell_type": "code",
   "execution_count": 17,
   "id": "b755aa23",
   "metadata": {},
   "outputs": [],
   "source": [
    "bbbp_df = bbbp_df[bbbp_df.valid == 1]\n"
   ]
  },
  {
   "cell_type": "code",
   "execution_count": 18,
   "id": "1c0f93e4",
   "metadata": {},
   "outputs": [
    {
     "name": "stderr",
     "output_type": "stream",
     "text": [
      "  0%|          | 0/2039 [00:00<?, ?it/s][15:53:48] WARNING: not removing hydrogen atom without neighbors\n",
      "[15:53:48] WARNING: not removing hydrogen atom without neighbors\n",
      "[15:53:48] WARNING: not removing hydrogen atom without neighbors\n",
      "[15:53:48] WARNING: not removing hydrogen atom without neighbors\n",
      " 12%|█▏        | 251/2039 [00:00<00:00, 2502.98it/s][15:53:48] WARNING: not removing hydrogen atom without neighbors\n",
      "[15:53:48] WARNING: not removing hydrogen atom without neighbors\n",
      "[15:53:48] WARNING: not removing hydrogen atom without neighbors\n",
      "[15:53:48] WARNING: not removing hydrogen atom without neighbors\n",
      "[15:53:48] WARNING: not removing hydrogen atom without neighbors\n",
      "[15:53:48] WARNING: not removing hydrogen atom without neighbors\n",
      " 29%|██▉       | 592/2039 [00:00<00:00, 2804.52it/s][15:53:48] WARNING: not removing hydrogen atom without neighbors\n",
      "[15:53:48] WARNING: not removing hydrogen atom without neighbors\n",
      "[15:53:48] WARNING: not removing hydrogen atom without neighbors\n",
      "[15:53:48] WARNING: not removing hydrogen atom without neighbors\n",
      "[15:53:48] WARNING: not removing hydrogen atom without neighbors\n",
      " 43%|████▎     | 871/2039 [00:00<00:00, 2601.97it/s][15:53:48] WARNING: not removing hydrogen atom without neighbors\n",
      "[15:53:48] WARNING: not removing hydrogen atom without neighbors\n",
      "[15:53:48] WARNING: not removing hydrogen atom without neighbors\n",
      "[15:53:48] WARNING: not removing hydrogen atom without neighbors\n",
      " 56%|█████▌    | 1133/2039 [00:00<00:00, 2600.84it/s][15:53:48] WARNING: not removing hydrogen atom without neighbors\n",
      "[15:53:48] WARNING: not removing hydrogen atom without neighbors\n",
      "[15:53:48] WARNING: not removing hydrogen atom without neighbors\n",
      "[15:53:48] WARNING: not removing hydrogen atom without neighbors\n",
      "[15:53:48] WARNING: not removing hydrogen atom without neighbors\n",
      "[15:53:48] WARNING: not removing hydrogen atom without neighbors\n",
      "[15:53:48] WARNING: not removing hydrogen atom without neighbors\n",
      "[15:53:48] WARNING: not removing hydrogen atom without neighbors\n",
      "[15:53:48] WARNING: not removing hydrogen atom without neighbors\n",
      " 70%|███████   | 1431/2039 [00:00<00:00, 2727.83it/s][15:53:48] WARNING: not removing hydrogen atom without neighbors\n",
      "[15:53:48] WARNING: not removing hydrogen atom without neighbors\n",
      "[15:53:48] WARNING: not removing hydrogen atom without neighbors\n",
      "[15:53:48] WARNING: not removing hydrogen atom without neighbors\n",
      "[15:53:48] WARNING: not removing hydrogen atom without neighbors\n",
      "[15:53:48] WARNING: not removing hydrogen atom without neighbors\n",
      "[15:53:48] WARNING: not removing hydrogen atom without neighbors\n",
      "[15:53:49] WARNING: not removing hydrogen atom without neighbors\n",
      " 87%|████████▋ | 1766/2039 [00:00<00:00, 2813.15it/s][15:53:49] WARNING: not removing hydrogen atom without neighbors\n",
      "[15:53:49] WARNING: not removing hydrogen atom without neighbors\n",
      "[15:53:49] WARNING: not removing hydrogen atom without neighbors\n",
      "[15:53:49] WARNING: not removing hydrogen atom without neighbors\n",
      "100%|██████████| 2039/2039 [00:00<00:00, 2791.57it/s]\n"
     ]
    }
   ],
   "source": [
    "from rdkit import Chem\n",
    "from rdkit.Chem import rdFingerprintGenerator\n",
    "import numpy as np\n",
    "from tqdm import tqdm\n",
    "\n",
    "def mol_to_fp(smiles, radius=2, nBits=2048):\n",
    "    mol = Chem.MolFromSmiles(smiles)\n",
    "    if mol is None:\n",
    "        return None\n",
    "    generator = rdFingerprintGenerator.GetMorganGenerator(radius=radius,fpSize=nBits)\n",
    "    fp = generator.GetFingerprintAsNumPy(mol)\n",
    "    return fp\n",
    "\n",
    "# Convert all molecules to fingerprints\n",
    "fps = []\n",
    "labels = []\n",
    "\n",
    "for i, row in tqdm(bbbp_df.iterrows(), total=len(bbbp_df)):\n",
    "    fp = mol_to_fp(row['smiles'])\n",
    "    if fp is not None:\n",
    "        fps.append(fp)\n",
    "        labels.append(row['p_np'])\n",
    "\n",
    "X = np.array(fps)\n",
    "y = np.array(labels)\n"
   ]
  },
  {
   "cell_type": "code",
   "execution_count": 19,
   "id": "37cefeac",
   "metadata": {},
   "outputs": [
    {
     "data": {
      "text/plain": [
       "(2039, 2048)"
      ]
     },
     "execution_count": 19,
     "metadata": {},
     "output_type": "execute_result"
    }
   ],
   "source": [
    "X.shape"
   ]
  },
  {
   "cell_type": "code",
   "execution_count": 20,
   "id": "1c5cbfea",
   "metadata": {},
   "outputs": [
    {
     "data": {
      "text/plain": [
       "(2039,)"
      ]
     },
     "execution_count": 20,
     "metadata": {},
     "output_type": "execute_result"
    }
   ],
   "source": [
    "y.shape"
   ]
  },
  {
   "cell_type": "code",
   "execution_count": 21,
   "id": "83cac9fb",
   "metadata": {},
   "outputs": [],
   "source": [
    "from sklearn.model_selection import train_test_split\n",
    "\n",
    "X_train, X_test, y_train, y_test = train_test_split(\n",
    "    X, y, test_size=0.2, random_state=42, stratify=y  # stratify if classification\n",
    ")"
   ]
  },
  {
   "cell_type": "code",
   "execution_count": 22,
   "id": "63942405",
   "metadata": {},
   "outputs": [],
   "source": [
    "import torch\n",
    "\n",
    "X_train_tensor = torch.tensor(X_train, dtype=torch.float32)\n",
    "y_train_tensor = torch.tensor(y_train, dtype=torch.float32).unsqueeze(1)  # For regression or binary classification\n",
    "\n",
    "X_test_tensor = torch.tensor(X_test, dtype=torch.float32)\n",
    "y_test_tensor = torch.tensor(y_test, dtype=torch.float32).unsqueeze(1)"
   ]
  },
  {
   "cell_type": "code",
   "execution_count": 23,
   "id": "a5d52498",
   "metadata": {},
   "outputs": [],
   "source": [
    "import torch.nn as nn\n",
    "import torch.nn.functional as F\n",
    "\n",
    "class BBBP_NN(nn.Module):\n",
    "    def __init__(self, input_size):\n",
    "        super(BBBP_NN, self).__init__()\n",
    "        self.fc1 = nn.Linear(input_size, 256)\n",
    "        self.fc2 = nn.Linear(256, 128)\n",
    "        self.fc3 = nn.Linear(128, 1)  # Single output for binary classification\n",
    "        self.dropout = nn.Dropout(0.3)\n",
    "\n",
    "    def forward(self, x):\n",
    "        x = F.relu(self.fc1(x))\n",
    "        x = self.dropout(x)\n",
    "        x = F.relu(self.fc2(x))\n",
    "        x = self.fc3(x)\n",
    "        return torch.sigmoid(x)  # Sigmoid for binary classification\n"
   ]
  },
  {
   "cell_type": "code",
   "execution_count": 24,
   "id": "94fab4d6",
   "metadata": {},
   "outputs": [],
   "source": [
    "model = BBBP_NN(input_size=X_train.shape[1])\n",
    "criterion = nn.BCELoss()  # Binary cross-entropy loss\n",
    "optimizer = torch.optim.Adam(model.parameters(), lr=0.0001)\n"
   ]
  },
  {
   "cell_type": "code",
   "execution_count": 26,
   "id": "b4867851",
   "metadata": {},
   "outputs": [
    {
     "name": "stdout",
     "output_type": "stream",
     "text": [
      "Epoch 1/100, Loss: 0.0188\n",
      "Epoch 2/100, Loss: 0.0169\n",
      "Epoch 3/100, Loss: 0.0204\n",
      "Epoch 4/100, Loss: 0.0189\n",
      "Epoch 5/100, Loss: 0.0161\n",
      "Epoch 6/100, Loss: 0.0172\n",
      "Epoch 7/100, Loss: 0.0151\n",
      "Epoch 8/100, Loss: 0.0167\n",
      "Epoch 9/100, Loss: 0.0144\n",
      "Epoch 10/100, Loss: 0.0139\n",
      "Epoch 11/100, Loss: 0.0157\n",
      "Epoch 12/100, Loss: 0.0172\n",
      "Epoch 13/100, Loss: 0.0143\n",
      "Epoch 14/100, Loss: 0.0147\n",
      "Epoch 15/100, Loss: 0.0161\n",
      "Epoch 16/100, Loss: 0.0151\n",
      "Epoch 17/100, Loss: 0.0132\n",
      "Epoch 18/100, Loss: 0.0141\n",
      "Epoch 19/100, Loss: 0.0172\n",
      "Epoch 20/100, Loss: 0.0147\n",
      "Epoch 21/100, Loss: 0.0131\n",
      "Epoch 22/100, Loss: 0.0157\n",
      "Epoch 23/100, Loss: 0.0131\n",
      "Epoch 24/100, Loss: 0.0164\n",
      "Epoch 25/100, Loss: 0.0158\n",
      "Epoch 26/100, Loss: 0.0120\n",
      "Epoch 27/100, Loss: 0.0161\n",
      "Epoch 28/100, Loss: 0.0161\n",
      "Epoch 29/100, Loss: 0.0166\n",
      "Epoch 30/100, Loss: 0.0157\n",
      "Epoch 31/100, Loss: 0.0152\n",
      "Epoch 32/100, Loss: 0.0143\n",
      "Epoch 33/100, Loss: 0.0167\n",
      "Epoch 34/100, Loss: 0.0132\n",
      "Epoch 35/100, Loss: 0.0127\n",
      "Epoch 36/100, Loss: 0.0136\n",
      "Epoch 37/100, Loss: 0.0159\n",
      "Epoch 38/100, Loss: 0.0127\n",
      "Epoch 39/100, Loss: 0.0148\n",
      "Epoch 40/100, Loss: 0.0126\n",
      "Epoch 41/100, Loss: 0.0125\n",
      "Epoch 42/100, Loss: 0.0113\n",
      "Epoch 43/100, Loss: 0.0127\n",
      "Epoch 44/100, Loss: 0.0134\n",
      "Epoch 45/100, Loss: 0.0110\n",
      "Epoch 46/100, Loss: 0.0132\n",
      "Epoch 47/100, Loss: 0.0147\n",
      "Epoch 48/100, Loss: 0.0130\n",
      "Epoch 49/100, Loss: 0.0131\n",
      "Epoch 50/100, Loss: 0.0107\n",
      "Epoch 51/100, Loss: 0.0146\n",
      "Epoch 52/100, Loss: 0.0112\n",
      "Epoch 53/100, Loss: 0.0113\n",
      "Epoch 54/100, Loss: 0.0158\n",
      "Epoch 55/100, Loss: 0.0130\n",
      "Epoch 56/100, Loss: 0.0141\n",
      "Epoch 57/100, Loss: 0.0120\n",
      "Epoch 58/100, Loss: 0.0113\n",
      "Epoch 59/100, Loss: 0.0112\n",
      "Epoch 60/100, Loss: 0.0116\n",
      "Epoch 61/100, Loss: 0.0126\n",
      "Epoch 62/100, Loss: 0.0140\n",
      "Epoch 63/100, Loss: 0.0119\n",
      "Epoch 64/100, Loss: 0.0115\n",
      "Epoch 65/100, Loss: 0.0129\n",
      "Epoch 66/100, Loss: 0.0137\n",
      "Epoch 67/100, Loss: 0.0121\n",
      "Epoch 68/100, Loss: 0.0132\n",
      "Epoch 69/100, Loss: 0.0143\n",
      "Epoch 70/100, Loss: 0.0134\n",
      "Epoch 71/100, Loss: 0.0140\n",
      "Epoch 72/100, Loss: 0.0125\n",
      "Epoch 73/100, Loss: 0.0109\n",
      "Epoch 74/100, Loss: 0.0122\n",
      "Epoch 75/100, Loss: 0.0128\n",
      "Epoch 76/100, Loss: 0.0150\n",
      "Epoch 77/100, Loss: 0.0147\n",
      "Epoch 78/100, Loss: 0.0156\n",
      "Epoch 79/100, Loss: 0.0124\n",
      "Epoch 80/100, Loss: 0.0135\n",
      "Epoch 81/100, Loss: 0.0125\n",
      "Epoch 82/100, Loss: 0.0117\n",
      "Epoch 83/100, Loss: 0.0129\n",
      "Epoch 84/100, Loss: 0.0135\n",
      "Epoch 85/100, Loss: 0.0131\n",
      "Epoch 86/100, Loss: 0.0111\n",
      "Epoch 87/100, Loss: 0.0119\n",
      "Epoch 88/100, Loss: 0.0108\n",
      "Epoch 89/100, Loss: 0.0113\n",
      "Epoch 90/100, Loss: 0.0120\n",
      "Epoch 91/100, Loss: 0.0121\n",
      "Epoch 92/100, Loss: 0.0107\n",
      "Epoch 93/100, Loss: 0.0129\n",
      "Epoch 94/100, Loss: 0.0116\n",
      "Epoch 95/100, Loss: 0.0140\n",
      "Epoch 96/100, Loss: 0.0120\n",
      "Epoch 97/100, Loss: 0.0115\n",
      "Epoch 98/100, Loss: 0.0131\n",
      "Epoch 99/100, Loss: 0.0117\n",
      "Epoch 100/100, Loss: 0.0120\n"
     ]
    }
   ],
   "source": [
    "num_epochs = 100\n",
    "batch_size = 64\n",
    "\n",
    "from torch.utils.data import TensorDataset, DataLoader\n",
    "\n",
    "train_dataset = TensorDataset(X_train_tensor, y_train_tensor)\n",
    "train_loader = DataLoader(train_dataset, batch_size=batch_size, shuffle=True)\n",
    "\n",
    "model.train()\n",
    "for epoch in range(num_epochs):\n",
    "    epoch_loss = 0\n",
    "    for batch_X, batch_y in train_loader:\n",
    "        optimizer.zero_grad()\n",
    "        outputs = model(batch_X)\n",
    "        loss = criterion(outputs, batch_y)\n",
    "        loss.backward()\n",
    "        optimizer.step()\n",
    "        epoch_loss += loss.item()\n",
    "    print(f\"Epoch {epoch+1}/{num_epochs}, Loss: {epoch_loss/len(train_loader):.4f}\")\n"
   ]
  },
  {
   "cell_type": "code",
   "execution_count": 27,
   "id": "cfa03c80",
   "metadata": {},
   "outputs": [
    {
     "name": "stdout",
     "output_type": "stream",
     "text": [
      "Test Accuracy: 0.8873\n",
      "Precision: 0.8982, Recall: 0.9615, F1-score: 0.9288\n"
     ]
    }
   ],
   "source": [
    "model.eval()\n",
    "with torch.no_grad():\n",
    "    y_pred_prob = model(X_test_tensor)\n",
    "    y_pred = (y_pred_prob > 0.5).float()\n",
    "    \n",
    "from sklearn.metrics import accuracy_score, precision_recall_fscore_support\n",
    "\n",
    "acc = accuracy_score(y_test, y_pred.numpy())\n",
    "precision, recall, f1, _ = precision_recall_fscore_support(y_test, y_pred.numpy(), average=\"binary\")\n",
    "\n",
    "print(f\"Test Accuracy: {acc:.4f}\")\n",
    "print(f\"Precision: {precision:.4f}, Recall: {recall:.4f}, F1-score: {f1:.4f}\")"
   ]
  },
  {
   "cell_type": "code",
   "execution_count": 28,
   "id": "0b2bd89c",
   "metadata": {},
   "outputs": [
    {
     "data": {
      "image/png": "[encoded data removed]",
      "text/plain": [
       "<Figure size 640x480 with 2 Axes>"
      ]
     },
     "metadata": {},
     "output_type": "display_data"
    }
   ],
   "source": [
    "import matplotlib.pyplot as plt\n",
    "from sklearn.metrics import confusion_matrix, ConfusionMatrixDisplay\n",
    "\n",
    "# y_test and y_pred are numpy arrays or lists of 0/1 labels\n",
    "cm = confusion_matrix(y_test, y_pred.numpy())\n",
    "\n",
    "disp = ConfusionMatrixDisplay(confusion_matrix=cm, display_labels=[0, 1])\n",
    "disp.plot()\n",
    "\n",
    "plt.title(\"Confusion Matrix\")\n",
    "plt.show()"
   ]
  },
  {
   "cell_type": "code",
   "execution_count": null,
   "id": "d2b63d28",
   "metadata": {},
   "outputs": [],
   "source": []
  }
 ],
 "metadata": {
  "kernelspec": {
   "display_name": ".venv",
   "language": "python",
   "name": "python3"
  },
  "language_info": {
   "codemirror_mode": {
    "name": "ipython",
    "version": 3
   },
   "file_extension": ".py",
   "mimetype": "text/x-python",
   "name": "python",
   "nbconvert_exporter": "python",
   "pygments_lexer": "ipython3",
   "version": "3.12.4"
  }
 },
 "nbformat": 4,
 "nbformat_minor": 5
}
