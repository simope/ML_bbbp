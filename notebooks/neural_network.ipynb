{
 "cells": [
  {
   "cell_type": "code",
   "execution_count": 2,
   "id": "0c0b69a5",
   "metadata": {},
   "outputs": [
    {
     "name": "stdout",
     "output_type": "stream",
     "text": [
      "(2050, 4)\n",
      "   num                  name  p_np  \\\n",
      "0    1            Propanolol     1   \n",
      "1    2  Terbutylchlorambucil     1   \n",
      "2    3                 40730     1   \n",
      "3    4                    24     1   \n",
      "4    5           cloxacillin     1   \n",
      "\n",
      "                                              smiles  \n",
      "0                   [Cl].CC(C)NCC(O)COc1cccc2ccccc12  \n",
      "1           C(=O)(OC(C)(C)C)CCCc1ccc(cc1)N(CCCl)CCCl  \n",
      "2  c12c3c(N4CCN(C)CC4)c(F)cc1c(c(C(O)=O)cn2C(C)CO...  \n",
      "3                   C1CCN(CC1)Cc1cccc(c1)OCCCNC(=O)C  \n",
      "4  Cc1onc(c2ccccc2Cl)c1C(=O)N[C@H]3[C@H]4SC(C)(C)...  \n"
     ]
    }
   ],
   "source": [
    "import pandas as pd\n",
    "\n",
    "bbbp_df = pd.read_csv(\"data/raw/BBBP.csv\")\n",
    "\n",
    "# Preview the dataset\n",
    "print(bbbp_df.shape)\n",
    "print(bbbp_df.head())"
   ]
  },
  {
   "cell_type": "code",
   "execution_count": 3,
   "id": "1ecece47",
   "metadata": {},
   "outputs": [
    {
     "data": {
      "text/html": [
       "<div>\n",
       "<style scoped>\n",
       "    .dataframe tbody tr th:only-of-type {\n",
       "        vertical-align: middle;\n",
       "    }\n",
       "\n",
       "    .dataframe tbody tr th {\n",
       "        vertical-align: top;\n",
       "    }\n",
       "\n",
       "    .dataframe thead th {\n",
       "        text-align: right;\n",
       "    }\n",
       "</style>\n",
       "<table border=\"1\" class=\"dataframe\">\n",
       "  <thead>\n",
       "    <tr style=\"text-align: right;\">\n",
       "      <th></th>\n",
       "      <th>smiles</th>\n",
       "      <th>p_np</th>\n",
       "    </tr>\n",
       "  </thead>\n",
       "  <tbody>\n",
       "    <tr>\n",
       "      <th>0</th>\n",
       "      <td>[Cl].CC(C)NCC(O)COc1cccc2ccccc12</td>\n",
       "      <td>1</td>\n",
       "    </tr>\n",
       "    <tr>\n",
       "      <th>1</th>\n",
       "      <td>C(=O)(OC(C)(C)C)CCCc1ccc(cc1)N(CCCl)CCCl</td>\n",
       "      <td>1</td>\n",
       "    </tr>\n",
       "    <tr>\n",
       "      <th>2</th>\n",
       "      <td>c12c3c(N4CCN(C)CC4)c(F)cc1c(c(C(O)=O)cn2C(C)CO...</td>\n",
       "      <td>1</td>\n",
       "    </tr>\n",
       "    <tr>\n",
       "      <th>3</th>\n",
       "      <td>C1CCN(CC1)Cc1cccc(c1)OCCCNC(=O)C</td>\n",
       "      <td>1</td>\n",
       "    </tr>\n",
       "    <tr>\n",
       "      <th>4</th>\n",
       "      <td>Cc1onc(c2ccccc2Cl)c1C(=O)N[C@H]3[C@H]4SC(C)(C)...</td>\n",
       "      <td>1</td>\n",
       "    </tr>\n",
       "  </tbody>\n",
       "</table>\n",
       "</div>"
      ],
      "text/plain": [
       "                                              smiles  p_np\n",
       "0                   [Cl].CC(C)NCC(O)COc1cccc2ccccc12     1\n",
       "1           C(=O)(OC(C)(C)C)CCCc1ccc(cc1)N(CCCl)CCCl     1\n",
       "2  c12c3c(N4CCN(C)CC4)c(F)cc1c(c(C(O)=O)cn2C(C)CO...     1\n",
       "3                   C1CCN(CC1)Cc1cccc(c1)OCCCNC(=O)C     1\n",
       "4  Cc1onc(c2ccccc2Cl)c1C(=O)N[C@H]3[C@H]4SC(C)(C)...     1"
      ]
     },
     "execution_count": 3,
     "metadata": {},
     "output_type": "execute_result"
    }
   ],
   "source": [
    "# Cleaning data\n",
    "bbbp_df = bbbp_df[['smiles', 'p_np']].dropna()\n",
    "bbbp_df.head()"
   ]
  },
  {
   "cell_type": "code",
   "execution_count": 4,
   "id": "07096af0",
   "metadata": {},
   "outputs": [
    {
     "name": "stdout",
     "output_type": "stream",
     "text": [
      "Dataset contains:\n",
      "    - 1567 permeable molecules (76.44%)\n",
      "    - 483 non-permeable molecules (23.56%)\n"
     ]
    }
   ],
   "source": [
    "# Have a look at class (im)balance\n",
    "permeable = bbbp_df[\"p_np\"].sum()\n",
    "non_permeable = len(bbbp_df) - permeable\n",
    "print(\n",
    "    f\"\"\"Dataset contains:\n",
    "    - {permeable} permeable molecules ({permeable/len(bbbp_df)*100:.2f}%)\n",
    "    - {non_permeable} non-permeable molecules ({non_permeable/len(bbbp_df)*100:.2f}%)\"\"\"\n",
    ")"
   ]
  },
  {
   "cell_type": "code",
   "execution_count": 5,
   "id": "9d28e230",
   "metadata": {},
   "outputs": [
    {
     "name": "stderr",
     "output_type": "stream",
     "text": [
      "[17:10:21] Explicit valence for atom # 1 N, 4, is greater than permitted\n",
      "[17:10:21] WARNING: not removing hydrogen atom without neighbors\n",
      "[17:10:21] Explicit valence for atom # 6 N, 4, is greater than permitted\n",
      "[17:10:21] WARNING: not removing hydrogen atom without neighbors\n",
      "[17:10:22] WARNING: not removing hydrogen atom without neighbors\n",
      "[17:10:22] WARNING: not removing hydrogen atom without neighbors\n",
      "[17:10:22] WARNING: not removing hydrogen atom without neighbors\n",
      "[17:10:22] WARNING: not removing hydrogen atom without neighbors\n",
      "[17:10:22] WARNING: not removing hydrogen atom without neighbors\n",
      "[17:10:22] Explicit valence for atom # 6 N, 4, is greater than permitted\n",
      "[17:10:22] WARNING: not removing hydrogen atom without neighbors\n",
      "[17:10:22] WARNING: not removing hydrogen atom without neighbors\n",
      "[17:10:22] WARNING: not removing hydrogen atom without neighbors\n",
      "[17:10:22] WARNING: not removing hydrogen atom without neighbors\n",
      "[17:10:22] Explicit valence for atom # 11 N, 4, is greater than permitted\n",
      "[17:10:22] Explicit valence for atom # 12 N, 4, is greater than permitted\n",
      "[17:10:22] Explicit valence for atom # 5 N, 4, is greater than permitted\n",
      "[17:10:22] Explicit valence for atom # 5 N, 4, is greater than permitted\n",
      "[17:10:22] Explicit valence for atom # 5 N, 4, is greater than permitted\n",
      "[17:10:22] Explicit valence for atom # 5 N, 4, is greater than permitted\n",
      "[17:10:22] Explicit valence for atom # 5 N, 4, is greater than permitted\n",
      "[17:10:22] WARNING: not removing hydrogen atom without neighbors\n",
      "[17:10:22] WARNING: not removing hydrogen atom without neighbors\n",
      "[17:10:22] Explicit valence for atom # 5 N, 4, is greater than permitted\n",
      "[17:10:22] WARNING: not removing hydrogen atom without neighbors\n",
      "[17:10:22] WARNING: not removing hydrogen atom without neighbors\n",
      "[17:10:22] WARNING: not removing hydrogen atom without neighbors\n",
      "[17:10:22] WARNING: not removing hydrogen atom without neighbors\n",
      "[17:10:22] WARNING: not removing hydrogen atom without neighbors\n",
      "[17:10:22] WARNING: not removing hydrogen atom without neighbors\n",
      "[17:10:22] WARNING: not removing hydrogen atom without neighbors\n",
      "[17:10:22] WARNING: not removing hydrogen atom without neighbors\n",
      "[17:10:22] WARNING: not removing hydrogen atom without neighbors\n",
      "[17:10:22] WARNING: not removing hydrogen atom without neighbors\n",
      "[17:10:22] WARNING: not removing hydrogen atom without neighbors\n",
      "[17:10:22] WARNING: not removing hydrogen atom without neighbors\n",
      "[17:10:22] WARNING: not removing hydrogen atom without neighbors\n",
      "[17:10:22] WARNING: not removing hydrogen atom without neighbors\n",
      "[17:10:22] WARNING: not removing hydrogen atom without neighbors\n",
      "[17:10:22] WARNING: not removing hydrogen atom without neighbors\n",
      "[17:10:22] WARNING: not removing hydrogen atom without neighbors\n"
     ]
    },
    {
     "name": "stdout",
     "output_type": "stream",
     "text": [
      "Length before cleaning invalid molecules: 2050\n",
      "Length after cleaning invalid molecules: 2039\n",
      "11 molecules removed.\n"
     ]
    },
    {
     "name": "stderr",
     "output_type": "stream",
     "text": [
      "[17:10:22] WARNING: not removing hydrogen atom without neighbors\n",
      "[17:10:22] WARNING: not removing hydrogen atom without neighbors\n",
      "[17:10:22] WARNING: not removing hydrogen atom without neighbors\n",
      "[17:10:22] WARNING: not removing hydrogen atom without neighbors\n",
      "[17:10:22] WARNING: not removing hydrogen atom without neighbors\n",
      "[17:10:22] WARNING: not removing hydrogen atom without neighbors\n",
      "[17:10:22] WARNING: not removing hydrogen atom without neighbors\n",
      "[17:10:22] WARNING: not removing hydrogen atom without neighbors\n",
      "[17:10:22] WARNING: not removing hydrogen atom without neighbors\n",
      "[17:10:22] WARNING: not removing hydrogen atom without neighbors\n"
     ]
    }
   ],
   "source": [
    "from rdkit import Chem\n",
    "\n",
    "# Get Mol object from smiles\n",
    "bbbp_df[\"mol_object\"] = bbbp_df[\"smiles\"].apply(Chem.MolFromSmiles)\n",
    "before = len(bbbp_df)\n",
    "print(f\"Length before cleaning invalid molecules: {before}\")\n",
    "# Remove invalid smiles/molecules\n",
    "bbbp_df = bbbp_df.dropna()\n",
    "after = len(bbbp_df)\n",
    "print(f\"Length after cleaning invalid molecules: {after}\")\n",
    "print(f\"{before-after} molecules removed.\")"
   ]
  },
  {
   "cell_type": "code",
   "execution_count": 6,
   "id": "1c0f93e4",
   "metadata": {},
   "outputs": [],
   "source": [
    "from rdkit import Chem\n",
    "from rdkit.Chem import rdFingerprintGenerator\n",
    "import numpy as np\n",
    "from tqdm import tqdm\n",
    "\n",
    "# Extract features as Morgan fingerprints\n",
    "# First create the generator\n",
    "generator = rdFingerprintGenerator.GetMorganGenerator(radius=2,fpSize=2048)\n",
    "fp = np.stack(bbbp_df[\"mol_object\"].apply(generator.GetFingerprintAsNumPy).values)\n"
   ]
  },
  {
   "cell_type": "code",
   "execution_count": 7,
   "id": "79be5aa9",
   "metadata": {},
   "outputs": [
    {
     "data": {
      "text/plain": [
       "(2039, 2048)"
      ]
     },
     "execution_count": 7,
     "metadata": {},
     "output_type": "execute_result"
    }
   ],
   "source": [
    "fp.shape"
   ]
  },
  {
   "cell_type": "code",
   "execution_count": 8,
   "id": "37cefeac",
   "metadata": {},
   "outputs": [],
   "source": [
    "X = fp\n",
    "y = bbbp_df[\"p_np\"].values"
   ]
  },
  {
   "cell_type": "code",
   "execution_count": 9,
   "id": "1c5cbfea",
   "metadata": {},
   "outputs": [
    {
     "data": {
      "text/plain": [
       "(2039,)"
      ]
     },
     "execution_count": 9,
     "metadata": {},
     "output_type": "execute_result"
    }
   ],
   "source": [
    "y.shape"
   ]
  },
  {
   "cell_type": "code",
   "execution_count": 10,
   "id": "83cac9fb",
   "metadata": {},
   "outputs": [],
   "source": [
    "from sklearn.model_selection import train_test_split\n",
    "\n",
    "X_train, X_test, y_train, y_test = train_test_split(\n",
    "    X, y, test_size=0.2, random_state=42, stratify=y  # stratify if classification\n",
    ")"
   ]
  },
  {
   "cell_type": "code",
   "execution_count": 11,
   "id": "eb16892e",
   "metadata": {},
   "outputs": [
    {
     "name": "stdout",
     "output_type": "stream",
     "text": [
      "Classification report:\n",
      "\n",
      "              precision    recall  f1-score   support\n",
      "\n",
      "           0       0.92      0.62      0.75        96\n",
      "           1       0.90      0.98      0.94       312\n",
      "\n",
      "    accuracy                           0.90       408\n",
      "   macro avg       0.91      0.80      0.84       408\n",
      "weighted avg       0.90      0.90      0.89       408\n",
      "\n"
     ]
    }
   ],
   "source": [
    "from sklearn.ensemble import RandomForestClassifier\n",
    "from sklearn.metrics import classification_report\n",
    "\n",
    "model = RandomForestClassifier(n_estimators=100, class_weight=\"balanced\", random_state=42)\n",
    "model.fit(X_train, y_train)\n",
    "\n",
    "y_pred = model.predict(X_test)\n",
    "print(\"Classification report:\")\n",
    "print(f\"\\n{classification_report(y_test, y_pred)}\")"
   ]
  },
  {
   "cell_type": "code",
   "execution_count": 12,
   "id": "63942405",
   "metadata": {},
   "outputs": [],
   "source": [
    "import torch\n",
    "\n",
    "X_train_tensor = torch.tensor(X_train, dtype=torch.float32)\n",
    "y_train_tensor = torch.tensor(y_train, dtype=torch.float32).unsqueeze(1)  # For regression or binary classification\n",
    "\n",
    "X_test_tensor = torch.tensor(X_test, dtype=torch.float32)\n",
    "y_test_tensor = torch.tensor(y_test, dtype=torch.float32).unsqueeze(1)"
   ]
  },
  {
   "cell_type": "code",
   "execution_count": 18,
   "id": "a5d52498",
   "metadata": {},
   "outputs": [],
   "source": [
    "import torch.nn as nn\n",
    "import torch.nn.functional as F\n",
    "\n",
    "class BBBP_NN(nn.Module):\n",
    "    def __init__(self, input_size):\n",
    "        super(BBBP_NN, self).__init__()\n",
    "        self.fc1 = nn.Linear(input_size, 512)\n",
    "        self.fc2 = nn.Linear(512, 128)\n",
    "        self.fc3 = nn.Linear(128, 1)  # Single output for binary classification\n",
    "        self.dropout = nn.Dropout(0.3)\n",
    "\n",
    "    def forward(self, x):\n",
    "        x = F.relu(self.fc1(x))\n",
    "        x = self.dropout(x)\n",
    "        x = F.relu(self.fc2(x))\n",
    "        x = self.fc3(x)\n",
    "        return torch.sigmoid(x)  # Sigmoid for binary classification\n"
   ]
  },
  {
   "cell_type": "code",
   "execution_count": 19,
   "id": "94fab4d6",
   "metadata": {},
   "outputs": [],
   "source": [
    "model = BBBP_NN(input_size=X_train.shape[1])\n",
    "criterion = nn.BCELoss()  # Binary cross-entropy loss\n",
    "optimizer = torch.optim.Adam(model.parameters(), lr=0.0001)\n"
   ]
  },
  {
   "cell_type": "code",
   "execution_count": 20,
   "id": "b4867851",
   "metadata": {},
   "outputs": [
    {
     "name": "stdout",
     "output_type": "stream",
     "text": [
      "Epoch 1/50, Loss: 0.6866\n",
      "Epoch 2/50, Loss: 0.5986\n",
      "Epoch 3/50, Loss: 0.5034\n",
      "Epoch 4/50, Loss: 0.4369\n",
      "Epoch 5/50, Loss: 0.3815\n",
      "Epoch 6/50, Loss: 0.3260\n",
      "Epoch 7/50, Loss: 0.2756\n",
      "Epoch 8/50, Loss: 0.2331\n",
      "Epoch 9/50, Loss: 0.2012\n",
      "Epoch 10/50, Loss: 0.1712\n",
      "Epoch 11/50, Loss: 0.1509\n",
      "Epoch 12/50, Loss: 0.1287\n",
      "Epoch 13/50, Loss: 0.1169\n",
      "Epoch 14/50, Loss: 0.1056\n",
      "Epoch 15/50, Loss: 0.0899\n",
      "Epoch 16/50, Loss: 0.0838\n",
      "Epoch 17/50, Loss: 0.0673\n",
      "Epoch 18/50, Loss: 0.0635\n",
      "Epoch 19/50, Loss: 0.0532\n",
      "Epoch 20/50, Loss: 0.0507\n",
      "Epoch 21/50, Loss: 0.0454\n",
      "Epoch 22/50, Loss: 0.0413\n",
      "Epoch 23/50, Loss: 0.0383\n",
      "Epoch 24/50, Loss: 0.0339\n",
      "Epoch 25/50, Loss: 0.0318\n",
      "Epoch 26/50, Loss: 0.0302\n",
      "Epoch 27/50, Loss: 0.0297\n",
      "Epoch 28/50, Loss: 0.0250\n",
      "Epoch 29/50, Loss: 0.0261\n",
      "Epoch 30/50, Loss: 0.0217\n",
      "Epoch 31/50, Loss: 0.0222\n",
      "Epoch 32/50, Loss: 0.0215\n",
      "Epoch 33/50, Loss: 0.0219\n",
      "Epoch 34/50, Loss: 0.0240\n",
      "Epoch 35/50, Loss: 0.0205\n",
      "Epoch 36/50, Loss: 0.0195\n",
      "Epoch 37/50, Loss: 0.0192\n",
      "Epoch 38/50, Loss: 0.0196\n",
      "Epoch 39/50, Loss: 0.0183\n",
      "Epoch 40/50, Loss: 0.0181\n",
      "Epoch 41/50, Loss: 0.0169\n",
      "Epoch 42/50, Loss: 0.0147\n",
      "Epoch 43/50, Loss: 0.0141\n",
      "Epoch 44/50, Loss: 0.0167\n",
      "Epoch 45/50, Loss: 0.0169\n",
      "Epoch 46/50, Loss: 0.0202\n",
      "Epoch 47/50, Loss: 0.0154\n",
      "Epoch 48/50, Loss: 0.0143\n",
      "Epoch 49/50, Loss: 0.0135\n",
      "Epoch 50/50, Loss: 0.0145\n"
     ]
    }
   ],
   "source": [
    "num_epochs = 50\n",
    "batch_size = 64\n",
    "\n",
    "from torch.utils.data import TensorDataset, DataLoader\n",
    "\n",
    "train_dataset = TensorDataset(X_train_tensor, y_train_tensor)\n",
    "train_loader = DataLoader(train_dataset, batch_size=batch_size, shuffle=True)\n",
    "\n",
    "model.train()\n",
    "for epoch in range(num_epochs):\n",
    "    epoch_loss = 0\n",
    "    for batch_X, batch_y in train_loader:\n",
    "        optimizer.zero_grad()\n",
    "        outputs = model(batch_X)\n",
    "        loss = criterion(outputs, batch_y)\n",
    "        loss.backward()\n",
    "        optimizer.step()\n",
    "        epoch_loss += loss.item()\n",
    "    print(f\"Epoch {epoch+1}/{num_epochs}, Loss: {epoch_loss/len(train_loader):.4f}\")\n"
   ]
  },
  {
   "cell_type": "code",
   "execution_count": 21,
   "id": "cfa03c80",
   "metadata": {},
   "outputs": [
    {
     "name": "stdout",
     "output_type": "stream",
     "text": [
      "Test Accuracy: 0.8848\n",
      "Precision: 0.8932, Recall: 0.9647, F1-score: 0.9276\n"
     ]
    }
   ],
   "source": [
    "model.eval()\n",
    "with torch.no_grad():\n",
    "    y_pred_prob = model(X_test_tensor)\n",
    "    y_pred = (y_pred_prob > 0.5).float()\n",
    "    \n",
    "from sklearn.metrics import accuracy_score, precision_recall_fscore_support\n",
    "\n",
    "acc = accuracy_score(y_test, y_pred.numpy())\n",
    "precision, recall, f1, _ = precision_recall_fscore_support(y_test, y_pred.numpy(), average=\"binary\")\n",
    "\n",
    "print(f\"Test Accuracy: {acc:.4f}\")\n",
    "print(f\"Precision: {precision:.4f}, Recall: {recall:.4f}, F1-score: {f1:.4f}\")"
   ]
  },
  {
   "cell_type": "code",
   "execution_count": 22,
   "id": "0b2bd89c",
   "metadata": {},
   "outputs": [
    {
     "data": {
      "image/png": "[encoded data removed]",
      "text/plain": [
       "<Figure size 640x480 with 2 Axes>"
      ]
     },
     "metadata": {},
     "output_type": "display_data"
    }
   ],
   "source": [
    "import matplotlib.pyplot as plt\n",
    "from sklearn.metrics import confusion_matrix, ConfusionMatrixDisplay\n",
    "\n",
    "# y_test and y_pred are numpy arrays or lists of 0/1 labels\n",
    "cm = confusion_matrix(y_test, y_pred.numpy())\n",
    "\n",
    "disp = ConfusionMatrixDisplay(confusion_matrix=cm, display_labels=[0, 1])\n",
    "disp.plot()\n",
    "\n",
    "plt.title(\"Confusion Matrix\")\n",
    "plt.show()"
   ]
  },
  {
   "cell_type": "code",
   "execution_count": null,
   "id": "d2b63d28",
   "metadata": {},
   "outputs": [],
   "source": []
  }
 ],
 "metadata": {
  "kernelspec": {
   "display_name": ".venv",
   "language": "python",
   "name": "python3"
  },
  "language_info": {
   "codemirror_mode": {
    "name": "ipython",
    "version": 3
   },
   "file_extension": ".py",
   "mimetype": "text/x-python",
   "name": "python",
   "nbconvert_exporter": "python",
   "pygments_lexer": "ipython3",
   "version": "3.12.4"
  }
 },
 "nbformat": 4,
 "nbformat_minor": 5
}
